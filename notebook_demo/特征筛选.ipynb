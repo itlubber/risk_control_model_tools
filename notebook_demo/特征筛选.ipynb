{
 "cells": [
  {
   "cell_type": "code",
   "execution_count": 17,
   "metadata": {},
   "outputs": [],
   "source": [
    "%matplotlib inline\n",
    "import warnings\n",
    "warnings.filterwarnings('ignore')\n",
    "\n",
    "import codecs\n",
    "import json\n",
    "import os\n",
    "import pickle\n",
    "import re\n",
    "import sys\n",
    "import time\n",
    "import traceback\n",
    "\n",
    "import numpy as np\n",
    "import pandas as pd\n",
    "import datetime as dt\n",
    "import matplotlib.pyplot as plt\n",
    "from glob import glob\n",
    "from os.path import splitext, split, join, exists\n",
    "from tqdm import tqdm\n",
    "from IPython import display"
   ]
  },
  {
   "cell_type": "code",
   "execution_count": 18,
   "metadata": {},
   "outputs": [],
   "source": [
    "from model_tools.gentools import gentools as gntls\n",
    "from model_tools.gentools import advtools as advtls\n",
    "from model_tools.plot import feature_plot as fplt\n",
    "from model_tools.feature_select import feature_select as fs\n",
    "from model_tools.feature_proc import feature_proc as fp\n",
    "from model_tools.model import model as mdl"
   ]
  },
  {
   "cell_type": "code",
   "execution_count": null,
   "metadata": {},
   "outputs": [],
   "source": []
  },
  {
   "cell_type": "markdown",
   "metadata": {},
   "source": [
    "### 特征筛选"
   ]
  },
  {
   "cell_type": "code",
   "execution_count": 19,
   "metadata": {},
   "outputs": [],
   "source": [
    "target = 'target'\n",
    "dpath = 'E:/git/test_data/'\n",
    "cfg_path = 'E:/git/model_tools/notebook_demo/'\n",
    "exclude_cols = ['OBJECTNO',\n",
    " 'target',\n",
    " 'PUTOUTSERIALNO',\n",
    " 'CUSTOMERID',\n",
    " 'order_create_time',\n",
    " 'order_create_at',\n",
    " 'SERIALNO',\n",
    " 'NATURALOCCURDATE',\n",
    " 'APPLSERIALNO',\n",
    " 'ruleSERIALNO',\n",
    " 'LK_MOBILENO',\n",
    " 'RULESERIALNO',\n",
    " 'JIAOYIRULE_SERIALNO',\n",
    " 'ref_time']"
   ]
  },
  {
   "cell_type": "code",
   "execution_count": 20,
   "metadata": {},
   "outputs": [
    {
     "name": "stdout",
     "output_type": "stream",
     "text": [
      "(70224, 1141) (30096, 1141) (34251, 1141)\n",
      "0.059139325586694005 0.05911084529505582 0.053166330910046425\n"
     ]
    },
    {
     "data": {
      "text/html": [
       "<div>\n",
       "<style scoped>\n",
       "    .dataframe tbody tr th:only-of-type {\n",
       "        vertical-align: middle;\n",
       "    }\n",
       "\n",
       "    .dataframe tbody tr th {\n",
       "        vertical-align: top;\n",
       "    }\n",
       "\n",
       "    .dataframe thead th {\n",
       "        text-align: right;\n",
       "    }\n",
       "</style>\n",
       "<table border=\"1\" class=\"dataframe\">\n",
       "  <thead>\n",
       "    <tr style=\"text-align: right;\">\n",
       "      <th></th>\n",
       "      <th>OBJECTNO</th>\n",
       "      <th>target</th>\n",
       "      <th>PUTOUTSERIALNO</th>\n",
       "      <th>CUSTOMERID</th>\n",
       "      <th>order_create_time</th>\n",
       "      <th>order_create_at</th>\n",
       "      <th>SERIALNO</th>\n",
       "      <th>NATURALOCCURDATE</th>\n",
       "      <th>APPLSERIALNO</th>\n",
       "      <th>ruleSERIALNO</th>\n",
       "      <th>...</th>\n",
       "      <th>LK_EDUCATION_proc</th>\n",
       "      <th>LK_V_RANGE_proc</th>\n",
       "      <th>DENGJI_proc</th>\n",
       "      <th>LK_FACEVERIFYINFO_pairSimilarity1</th>\n",
       "      <th>LK_FACEVERIFYINFO_pairSimilarity2</th>\n",
       "      <th>province</th>\n",
       "      <th>地区</th>\n",
       "      <th>级别</th>\n",
       "      <th>城市等级</th>\n",
       "      <th>province_</th>\n",
       "    </tr>\n",
       "  </thead>\n",
       "  <tbody>\n",
       "    <tr>\n",
       "      <th>0</th>\n",
       "      <td>1020042300003186</td>\n",
       "      <td>0.0</td>\n",
       "      <td>1020042300003472</td>\n",
       "      <td>1020020300010134</td>\n",
       "      <td>2020-04-23 09:05:56</td>\n",
       "      <td>1587603956</td>\n",
       "      <td>1020042300003472</td>\n",
       "      <td>2020-04-23</td>\n",
       "      <td>1020020300002636</td>\n",
       "      <td>1020020300003028</td>\n",
       "      <td>...</td>\n",
       "      <td>NaN</td>\n",
       "      <td>3.0</td>\n",
       "      <td>3</td>\n",
       "      <td>NaN</td>\n",
       "      <td>NaN</td>\n",
       "      <td>上海</td>\n",
       "      <td>上海</td>\n",
       "      <td>特级城市</td>\n",
       "      <td>1.0</td>\n",
       "      <td>14</td>\n",
       "    </tr>\n",
       "    <tr>\n",
       "      <th>1</th>\n",
       "      <td>1020032300002268</td>\n",
       "      <td>0.0</td>\n",
       "      <td>1020032300000295</td>\n",
       "      <td>1020020300010134</td>\n",
       "      <td>2020-03-23 08:47:56</td>\n",
       "      <td>1584924476</td>\n",
       "      <td>1020032300000295</td>\n",
       "      <td>2020-03-23</td>\n",
       "      <td>1020020300002636</td>\n",
       "      <td>1020020300003028</td>\n",
       "      <td>...</td>\n",
       "      <td>NaN</td>\n",
       "      <td>3.0</td>\n",
       "      <td>3</td>\n",
       "      <td>NaN</td>\n",
       "      <td>NaN</td>\n",
       "      <td>上海</td>\n",
       "      <td>上海</td>\n",
       "      <td>特级城市</td>\n",
       "      <td>1.0</td>\n",
       "      <td>14</td>\n",
       "    </tr>\n",
       "  </tbody>\n",
       "</table>\n",
       "<p>2 rows × 1141 columns</p>\n",
       "</div>"
      ],
      "text/plain": [
       "           OBJECTNO  target    PUTOUTSERIALNO        CUSTOMERID  \\\n",
       "0  1020042300003186     0.0  1020042300003472  1020020300010134   \n",
       "1  1020032300002268     0.0  1020032300000295  1020020300010134   \n",
       "\n",
       "     order_create_time  order_create_at          SERIALNO NATURALOCCURDATE  \\\n",
       "0  2020-04-23 09:05:56       1587603956  1020042300003472       2020-04-23   \n",
       "1  2020-03-23 08:47:56       1584924476  1020032300000295       2020-03-23   \n",
       "\n",
       "       APPLSERIALNO      ruleSERIALNO  ...  LK_EDUCATION_proc  \\\n",
       "0  1020020300002636  1020020300003028  ...                NaN   \n",
       "1  1020020300002636  1020020300003028  ...                NaN   \n",
       "\n",
       "   LK_V_RANGE_proc  DENGJI_proc  LK_FACEVERIFYINFO_pairSimilarity1  \\\n",
       "0              3.0            3                                NaN   \n",
       "1              3.0            3                                NaN   \n",
       "\n",
       "   LK_FACEVERIFYINFO_pairSimilarity2  province  地区    级别  城市等级  province_  \n",
       "0                                NaN        上海  上海  特级城市   1.0         14  \n",
       "1                                NaN        上海  上海  特级城市   1.0         14  \n",
       "\n",
       "[2 rows x 1141 columns]"
      ]
     },
     "execution_count": 20,
     "metadata": {},
     "output_type": "execute_result"
    }
   ],
   "source": [
    "x_train = pd.read_pickle(join(dpath, 'x_train.pkl'))\n",
    "x_test = pd.read_pickle(join(dpath, 'x_test.pkl'))\n",
    "oot = pd.read_pickle(join(dpath, 'oot.pkl'))\n",
    "print(x_train.shape,x_test.shape,oot.shape)\n",
    "print(x_train[target].mean(),x_test[target].mean(),oot[target].mean())\n",
    "x_train.head(2)"
   ]
  },
  {
   "cell_type": "code",
   "execution_count": null,
   "metadata": {},
   "outputs": [],
   "source": []
  },
  {
   "cell_type": "markdown",
   "metadata": {},
   "source": [
    "### dropna"
   ]
  },
  {
   "cell_type": "code",
   "execution_count": 21,
   "metadata": {},
   "outputs": [],
   "source": [
    "is_flag = False\n",
    "thresh = 0.98"
   ]
  },
  {
   "cell_type": "code",
   "execution_count": 22,
   "metadata": {},
   "outputs": [
    {
     "name": "stdout",
     "output_type": "stream",
     "text": [
      "# of columns to drop: 0\n",
      "(70224, 1141) (30096, 1141) (34251, 1141)\n",
      "0.059139325586694005 0.05911084529505582 0.053166330910046425\n"
     ]
    }
   ],
   "source": [
    "x_train, drop_cols = fs.drop_na_cols(x_train, thresh=thresh, cols=None, \n",
    "                                     type_='calc', is_flag=is_flag, exclude=exclude_cols)\n",
    "x_test, _ = fs.drop_na_cols(x_test, thresh=thresh, cols=drop_cols,\n",
    "                      type_='nocalc', is_flag=is_flag, exclude=exclude_cols)\n",
    "oot, _ = fs.drop_na_cols(oot, thresh=thresh, cols=drop_cols,\n",
    "                      type_='nocalc', is_flag=is_flag, exclude=exclude_cols)\n",
    "\n",
    "print(x_train.shape, x_test.shape, oot.shape)\n",
    "print(x_train[target].mean(),x_test[target].mean(),oot[target].mean())"
   ]
  },
  {
   "cell_type": "code",
   "execution_count": 23,
   "metadata": {},
   "outputs": [],
   "source": [
    "is_flag = True\n",
    "thresh = 0.95"
   ]
  },
  {
   "cell_type": "code",
   "execution_count": 24,
   "metadata": {},
   "outputs": [
    {
     "name": "stderr",
     "output_type": "stream",
     "text": [
      "0it [00:00, ?it/s]"
     ]
    },
    {
     "name": "stdout",
     "output_type": "stream",
     "text": [
      "# of columns to drop: 0\n",
      "# start add is_na flag\n"
     ]
    },
    {
     "name": "stderr",
     "output_type": "stream",
     "text": [
      "\n",
      "0it [00:00, ?it/s]\n",
      "0it [00:00, ?it/s]"
     ]
    },
    {
     "name": "stdout",
     "output_type": "stream",
     "text": [
      "# start add is_na flag\n",
      "# start add is_na flag\n"
     ]
    },
    {
     "name": "stderr",
     "output_type": "stream",
     "text": [
      "\n"
     ]
    },
    {
     "name": "stdout",
     "output_type": "stream",
     "text": [
      "(70224, 1141) (30096, 1141) (34251, 1141)\n",
      "0.059139325586694005 0.05911084529505582 0.053166330910046425\n"
     ]
    }
   ],
   "source": [
    "x_train, drop_cols = fs.drop_na_cols(x_train, thresh=thresh, cols=None, \n",
    "                                     type_='calc', is_flag=is_flag, exclude=exclude_cols)\n",
    "x_test, _ = fs.drop_na_cols(x_test, thresh=thresh, cols=drop_cols,\n",
    "                      type_='nocalc', is_flag=is_flag, exclude=exclude_cols)\n",
    "oot, _ = fs.drop_na_cols(oot, thresh=thresh, cols=drop_cols,\n",
    "                      type_='nocalc', is_flag=is_flag, exclude=exclude_cols)\n",
    "\n",
    "print(x_train.shape, x_test.shape, oot.shape)\n",
    "print(x_train[target].mean(),x_test[target].mean(),oot[target].mean())"
   ]
  },
  {
   "cell_type": "markdown",
   "metadata": {},
   "source": [
    "### drop single value"
   ]
  },
  {
   "cell_type": "code",
   "execution_count": 25,
   "metadata": {},
   "outputs": [],
   "source": [
    "is_flag = False\n",
    "thresh = 0.98"
   ]
  },
  {
   "cell_type": "code",
   "execution_count": 26,
   "metadata": {},
   "outputs": [
    {
     "name": "stderr",
     "output_type": "stream",
     "text": [
      "100%|█████████████████████████████████████████████████████████████████████████████| 1127/1127 [00:06<00:00, 174.57it/s]\n"
     ]
    },
    {
     "name": "stdout",
     "output_type": "stream",
     "text": [
      "(70224, 1141) (30096, 1141) (34251, 1141)\n",
      "0.059139325586694005 0.05911084529505582 0.053166330910046425\n"
     ]
    }
   ],
   "source": [
    "x_train, cols_inform = fs.drop_singleValue_cols(x_train, thresh=thresh, cols=None, \n",
    "                                                type_='calc', is_flag=is_flag, exclude=exclude_cols)\n",
    "x_test, _ = fs.drop_singleValue_cols(x_test, thresh=thresh, cols=cols_inform,\n",
    "                               type_='nocalc', is_flag=is_flag, exclude=exclude_cols, save_file=None)\n",
    "oot, _ = fs.drop_singleValue_cols(oot, thresh=thresh, cols=cols_inform,\n",
    "                               type_='nocalc', is_flag=is_flag, exclude=exclude_cols, save_file=None)\n",
    "print(x_train.shape, x_test.shape, oot.shape)\n",
    "print(x_train[target].mean(),x_test[target].mean(),oot[target].mean())"
   ]
  },
  {
   "cell_type": "code",
   "execution_count": 27,
   "metadata": {},
   "outputs": [],
   "source": [
    "is_flag = True\n",
    "thresh = 0.95"
   ]
  },
  {
   "cell_type": "code",
   "execution_count": 28,
   "metadata": {},
   "outputs": [
    {
     "name": "stderr",
     "output_type": "stream",
     "text": [
      "100%|█████████████████████████████████████████████████████████████████████████████| 1127/1127 [00:06<00:00, 170.90it/s]\n",
      " 10%|████████▎                                                                          | 6/60 [00:00<00:01, 51.05it/s]"
     ]
    },
    {
     "name": "stdout",
     "output_type": "stream",
     "text": [
      "# start add is_mode flag\n"
     ]
    },
    {
     "name": "stderr",
     "output_type": "stream",
     "text": [
      "100%|██████████████████████████████████████████████████████████████████████████████████| 60/60 [00:02<00:00, 24.73it/s]\n"
     ]
    }
   ],
   "source": [
    "x_train, cols_inform = fs.drop_singleValue_cols(x_train, thresh=thresh, cols=None, \n",
    "                                                type_='calc', is_flag=is_flag, exclude=exclude_cols, \n",
    "                                                save_file=join(cfg_path,'cfg','SingleValuecfg'))"
   ]
  },
  {
   "cell_type": "code",
   "execution_count": 29,
   "metadata": {},
   "outputs": [],
   "source": [
    "# with open(join(cfg_path,'cfg','SingleValuecfg'),'r') as load_f:\n",
    "#     cols_inform = json.load(load_f)"
   ]
  },
  {
   "cell_type": "code",
   "execution_count": 30,
   "metadata": {},
   "outputs": [
    {
     "name": "stderr",
     "output_type": "stream",
     "text": [
      " 13%|███████████                                                                        | 8/60 [00:00<00:00, 76.39it/s]"
     ]
    },
    {
     "name": "stdout",
     "output_type": "stream",
     "text": [
      "# start add is_mode flag\n"
     ]
    },
    {
     "name": "stderr",
     "output_type": "stream",
     "text": [
      "100%|██████████████████████████████████████████████████████████████████████████████████| 60/60 [00:01<00:00, 48.57it/s]\n",
      " 13%|███████████                                                                        | 8/60 [00:00<00:00, 74.80it/s]"
     ]
    },
    {
     "name": "stdout",
     "output_type": "stream",
     "text": [
      "# start add is_mode flag\n"
     ]
    },
    {
     "name": "stderr",
     "output_type": "stream",
     "text": [
      "100%|██████████████████████████████████████████████████████████████████████████████████| 60/60 [00:01<00:00, 47.79it/s]\n"
     ]
    },
    {
     "name": "stdout",
     "output_type": "stream",
     "text": [
      "(70224, 1141) (30096, 1141) (34251, 1141)\n",
      "0.059139325586694005 0.05911084529505582 0.053166330910046425\n"
     ]
    }
   ],
   "source": [
    "x_test, _ = fs.drop_singleValue_cols(x_test, thresh=thresh, cols=cols_inform,\n",
    "                               type_='nocalc', is_flag=is_flag, exclude=exclude_cols, save_file=None)\n",
    "oot, _ = fs.drop_singleValue_cols(oot, thresh=thresh, cols=cols_inform,\n",
    "                               type_='nocalc', is_flag=is_flag, exclude=exclude_cols, save_file=None)\n",
    "print(x_train.shape, x_test.shape, oot.shape)\n",
    "print(x_train[target].mean(),x_test[target].mean(),oot[target].mean())"
   ]
  },
  {
   "cell_type": "code",
   "execution_count": 31,
   "metadata": {},
   "outputs": [
    {
     "data": {
      "application/vnd.jupyter.widget-view+json": {
       "model_id": "9168979e89664561b9240cd67a4a2978",
       "version_major": 2,
       "version_minor": 0
      },
      "text/plain": [
       "VBox(box_style='info', children=(HBox(children=(HBox(children=(Button(description='x_train', layout=Layout(hei…"
      ]
     },
     "metadata": {},
     "output_type": "display_data"
    }
   ],
   "source": [
    "feas = 'ovd_gt1_repay_amt_rf_repay_max_p66d_add_mode_flag'\n",
    "\n",
    "tab = fplt.TabOut()\n",
    "params = {}\n",
    "for v in ['x_train', 'x_test', 'oot']:\n",
    "    params.update({v: fplt.PlotUtils().plot_bivar(eval(v), feas=feas, target=target,\n",
    "                    cut_params=None, title=feas,\n",
    "                    yaxis='count_rto', pyecharts=False, mark_line=True,\n",
    "                    draw_lin=False, save_path=None, thred=3, max_bins=3,\n",
    "                    color_bar=['steelblue'], color_line=['red','black'], return_state=False)})\n",
    "    \n",
    "tab.get_tab_out(params, box_style='info',column_cnt=5)"
   ]
  },
  {
   "cell_type": "markdown",
   "metadata": {},
   "source": [
    "### select by filter"
   ]
  },
  {
   "cell_type": "markdown",
   "metadata": {},
   "source": [
    "#### calc filter_index"
   ]
  },
  {
   "cell_type": "code",
   "execution_count": 20,
   "metadata": {},
   "outputs": [
    {
     "name": "stderr",
     "output_type": "stream",
     "text": [
      "100%|█████████████████████████████████████████████████████████████████████████████| 1086/1086 [00:02<00:00, 540.66it/s]"
     ]
    },
    {
     "name": "stdout",
     "output_type": "stream",
     "text": [
      "174 912\n"
     ]
    },
    {
     "name": "stderr",
     "output_type": "stream",
     "text": [
      "\n"
     ]
    }
   ],
   "source": [
    "feas_cut, feas_nocut = [],[]\n",
    "for fea in tqdm(list(set(x_train.select_dtypes(np.number).columns)-set(exclude_cols))):\n",
    "    if x_train[fea].nunique()<=20:\n",
    "        feas_nocut.append(fea)\n",
    "    else:\n",
    "        feas_cut.append(fea)\n",
    "print(len(feas_nocut), len(feas_cut))"
   ]
  },
  {
   "cell_type": "markdown",
   "metadata": {},
   "source": [
    "* 加上mic会比较慢"
   ]
  },
  {
   "cell_type": "code",
   "execution_count": 21,
   "metadata": {},
   "outputs": [
    {
     "name": "stderr",
     "output_type": "stream",
     "text": [
      "100%|████████████████████████████████████████████████████████████████████████████████| 174/174 [07:45<00:00,  2.68s/it]\n",
      "  0%|                                                                                          | 0/912 [00:00<?, ?it/s]"
     ]
    },
    {
     "name": "stdout",
     "output_type": "stream",
     "text": [
      "# of feas cnt not cut: 0\n"
     ]
    },
    {
     "name": "stderr",
     "output_type": "stream",
     "text": [
      "100%|████████████████████████████████████████████████████████████████████████████████| 912/912 [32:30<00:00,  2.14s/it]"
     ]
    },
    {
     "name": "stdout",
     "output_type": "stream",
     "text": [
      "# of feas cnt not cut: 0\n",
      "(1086, 10)\n"
     ]
    },
    {
     "name": "stderr",
     "output_type": "stream",
     "text": [
      "\n"
     ]
    },
    {
     "data": {
      "text/html": [
       "<div>\n",
       "<style scoped>\n",
       "    .dataframe tbody tr th:only-of-type {\n",
       "        vertical-align: middle;\n",
       "    }\n",
       "\n",
       "    .dataframe tbody tr th {\n",
       "        vertical-align: top;\n",
       "    }\n",
       "\n",
       "    .dataframe thead th {\n",
       "        text-align: right;\n",
       "    }\n",
       "</style>\n",
       "<table border=\"1\" class=\"dataframe\">\n",
       "  <thead>\n",
       "    <tr style=\"text-align: right;\">\n",
       "      <th></th>\n",
       "      <th>Person</th>\n",
       "      <th>Fclassif</th>\n",
       "      <th>Chi2</th>\n",
       "      <th>inform_gain</th>\n",
       "      <th>inform_gain_rto</th>\n",
       "      <th>IV</th>\n",
       "      <th>absWOE</th>\n",
       "      <th>AUC</th>\n",
       "      <th>KS</th>\n",
       "      <th>MIC</th>\n",
       "    </tr>\n",
       "  </thead>\n",
       "  <tbody>\n",
       "    <tr>\n",
       "      <th>ely_gt0_repay_amt_rf_repay_mean_p186d</th>\n",
       "      <td>-0.070881</td>\n",
       "      <td>349.018348</td>\n",
       "      <td>465.597633</td>\n",
       "      <td>0.004831</td>\n",
       "      <td>0.001697</td>\n",
       "      <td>0.123534</td>\n",
       "      <td>2.199691</td>\n",
       "      <td>0.5898</td>\n",
       "      <td>0.148264</td>\n",
       "      <td>0.004831</td>\n",
       "    </tr>\n",
       "    <tr>\n",
       "      <th>ely_gt3_repay_amt_rf_repay_sum_p36d</th>\n",
       "      <td>-0.078920</td>\n",
       "      <td>419.824320</td>\n",
       "      <td>417.902770</td>\n",
       "      <td>0.005597</td>\n",
       "      <td>0.004155</td>\n",
       "      <td>0.165306</td>\n",
       "      <td>2.348694</td>\n",
       "      <td>0.5757</td>\n",
       "      <td>0.139082</td>\n",
       "      <td>0.005597</td>\n",
       "    </tr>\n",
       "    <tr>\n",
       "      <th>ely_gt30_repay_oid_cnt_rf_repay_p186d</th>\n",
       "      <td>-0.079474</td>\n",
       "      <td>439.342060</td>\n",
       "      <td>452.816829</td>\n",
       "      <td>0.005815</td>\n",
       "      <td>0.005138</td>\n",
       "      <td>0.169808</td>\n",
       "      <td>2.767007</td>\n",
       "      <td>0.5731</td>\n",
       "      <td>0.142316</td>\n",
       "      <td>0.005815</td>\n",
       "    </tr>\n",
       "    <tr>\n",
       "      <th>normal_days_rf_due_max_freq_p96d</th>\n",
       "      <td>-0.068264</td>\n",
       "      <td>319.221427</td>\n",
       "      <td>324.722007</td>\n",
       "      <td>0.004039</td>\n",
       "      <td>0.002229</td>\n",
       "      <td>0.114639</td>\n",
       "      <td>2.353433</td>\n",
       "      <td>0.5725</td>\n",
       "      <td>0.123482</td>\n",
       "      <td>0.004039</td>\n",
       "    </tr>\n",
       "    <tr>\n",
       "      <th>ovd_gt1_repay_amt_rf_due_sum_p66d</th>\n",
       "      <td>0.095386</td>\n",
       "      <td>625.907014</td>\n",
       "      <td>620.230444</td>\n",
       "      <td>0.004148</td>\n",
       "      <td>0.027702</td>\n",
       "      <td>0.089157</td>\n",
       "      <td>1.512713</td>\n",
       "      <td>0.5295</td>\n",
       "      <td>0.058938</td>\n",
       "      <td>0.004148</td>\n",
       "    </tr>\n",
       "  </tbody>\n",
       "</table>\n",
       "</div>"
      ],
      "text/plain": [
       "                                         Person    Fclassif        Chi2  \\\n",
       "ely_gt0_repay_amt_rf_repay_mean_p186d -0.070881  349.018348  465.597633   \n",
       "ely_gt3_repay_amt_rf_repay_sum_p36d   -0.078920  419.824320  417.902770   \n",
       "ely_gt30_repay_oid_cnt_rf_repay_p186d -0.079474  439.342060  452.816829   \n",
       "normal_days_rf_due_max_freq_p96d      -0.068264  319.221427  324.722007   \n",
       "ovd_gt1_repay_amt_rf_due_sum_p66d      0.095386  625.907014  620.230444   \n",
       "\n",
       "                                       inform_gain  inform_gain_rto        IV  \\\n",
       "ely_gt0_repay_amt_rf_repay_mean_p186d     0.004831         0.001697  0.123534   \n",
       "ely_gt3_repay_amt_rf_repay_sum_p36d       0.005597         0.004155  0.165306   \n",
       "ely_gt30_repay_oid_cnt_rf_repay_p186d     0.005815         0.005138  0.169808   \n",
       "normal_days_rf_due_max_freq_p96d          0.004039         0.002229  0.114639   \n",
       "ovd_gt1_repay_amt_rf_due_sum_p66d         0.004148         0.027702  0.089157   \n",
       "\n",
       "                                         absWOE     AUC        KS       MIC  \n",
       "ely_gt0_repay_amt_rf_repay_mean_p186d  2.199691  0.5898  0.148264  0.004831  \n",
       "ely_gt3_repay_amt_rf_repay_sum_p36d    2.348694  0.5757  0.139082  0.005597  \n",
       "ely_gt30_repay_oid_cnt_rf_repay_p186d  2.767007  0.5731  0.142316  0.005815  \n",
       "normal_days_rf_due_max_freq_p96d       2.353433  0.5725  0.123482  0.004039  \n",
       "ovd_gt1_repay_amt_rf_due_sum_p66d      1.512713  0.5295  0.058938  0.004148  "
      ]
     },
     "execution_count": 21,
     "metadata": {},
     "output_type": "execute_result"
    }
   ],
   "source": [
    "filter_index1,_ = fs.calc_feas_filterindex(x_train, feas_list=feas_nocut, target=target, \n",
    "                                         calc_list='all', cut=None, drop_value=None, exclude_feas=exclude_cols)\n",
    "filter_index2,_ = fs.calc_feas_filterindex(x_train, feas_list=feas_cut, target=target, \n",
    "                                         calc_list='all', cut=10, drop_value=None, exclude_feas=exclude_cols)\n",
    "filter_index = pd.concat([filter_index2,filter_index1])\n",
    "print(filter_index.shape)\n",
    "filter_index.head()"
   ]
  },
  {
   "cell_type": "code",
   "execution_count": 22,
   "metadata": {},
   "outputs": [],
   "source": [
    "filter_index.to_csv(join(cfg_path,'cfg','filter_index.csv'))"
   ]
  },
  {
   "cell_type": "markdown",
   "metadata": {},
   "source": [
    "* 不加mic快很多"
   ]
  },
  {
   "cell_type": "code",
   "execution_count": 23,
   "metadata": {},
   "outputs": [],
   "source": [
    "# filter_index1,_ = fs.calc_feas_filterindex(x_train, feas_list=feas_nocut, target=target, \n",
    "#                                          calc_list=['CalcPerson', 'CalcFclassif', 'CalcChi2', 'CalcInformGain', 'CalcIV', 'CalcAucKs'], \n",
    "#                                            cut=None, drop_value=None, exclude_feas=exclude_cols)\n",
    "# filter_index2,_ = fs.calc_feas_filterindex(x_train, feas_list=feas_cut, target=target, \n",
    "#                                          calc_list=['CalcPerson', 'CalcFclassif', 'CalcChi2', 'CalcInformGain', 'CalcIV', 'CalcAucKs'], \n",
    "#                                            cut=10, drop_value=None, exclude_feas=exclude_cols)\n",
    "# filter_index = pd.concat([filter_index2,filter_index1])\n",
    "# print(filter_index.shape)\n",
    "# filter_index.head()"
   ]
  },
  {
   "cell_type": "markdown",
   "metadata": {},
   "source": [
    "#### feas sel by filyer_index"
   ]
  },
  {
   "cell_type": "code",
   "execution_count": 5,
   "metadata": {},
   "outputs": [
    {
     "name": "stdout",
     "output_type": "stream",
     "text": [
      "(1086, 10)\n"
     ]
    },
    {
     "data": {
      "text/html": [
       "<div>\n",
       "<style scoped>\n",
       "    .dataframe tbody tr th:only-of-type {\n",
       "        vertical-align: middle;\n",
       "    }\n",
       "\n",
       "    .dataframe tbody tr th {\n",
       "        vertical-align: top;\n",
       "    }\n",
       "\n",
       "    .dataframe thead th {\n",
       "        text-align: right;\n",
       "    }\n",
       "</style>\n",
       "<table border=\"1\" class=\"dataframe\">\n",
       "  <thead>\n",
       "    <tr style=\"text-align: right;\">\n",
       "      <th></th>\n",
       "      <th>Person</th>\n",
       "      <th>Fclassif</th>\n",
       "      <th>Chi2</th>\n",
       "      <th>inform_gain</th>\n",
       "      <th>inform_gain_rto</th>\n",
       "      <th>IV</th>\n",
       "      <th>absWOE</th>\n",
       "      <th>AUC</th>\n",
       "      <th>KS</th>\n",
       "      <th>MIC</th>\n",
       "    </tr>\n",
       "  </thead>\n",
       "  <tbody>\n",
       "    <tr>\n",
       "      <th>ely_gt0_repay_amt_rf_repay_mean_p186d</th>\n",
       "      <td>-0.070881</td>\n",
       "      <td>349.018348</td>\n",
       "      <td>465.597633</td>\n",
       "      <td>0.004831</td>\n",
       "      <td>0.001697</td>\n",
       "      <td>0.123534</td>\n",
       "      <td>2.199691</td>\n",
       "      <td>0.5898</td>\n",
       "      <td>0.148264</td>\n",
       "      <td>0.004831</td>\n",
       "    </tr>\n",
       "    <tr>\n",
       "      <th>ely_gt3_repay_amt_rf_repay_sum_p36d</th>\n",
       "      <td>-0.078920</td>\n",
       "      <td>419.824320</td>\n",
       "      <td>417.902770</td>\n",
       "      <td>0.005597</td>\n",
       "      <td>0.004155</td>\n",
       "      <td>0.165306</td>\n",
       "      <td>2.348694</td>\n",
       "      <td>0.5757</td>\n",
       "      <td>0.139082</td>\n",
       "      <td>0.005597</td>\n",
       "    </tr>\n",
       "  </tbody>\n",
       "</table>\n",
       "</div>"
      ],
      "text/plain": [
       "                                         Person    Fclassif        Chi2  \\\n",
       "ely_gt0_repay_amt_rf_repay_mean_p186d -0.070881  349.018348  465.597633   \n",
       "ely_gt3_repay_amt_rf_repay_sum_p36d   -0.078920  419.824320  417.902770   \n",
       "\n",
       "                                       inform_gain  inform_gain_rto        IV  \\\n",
       "ely_gt0_repay_amt_rf_repay_mean_p186d     0.004831         0.001697  0.123534   \n",
       "ely_gt3_repay_amt_rf_repay_sum_p36d       0.005597         0.004155  0.165306   \n",
       "\n",
       "                                         absWOE     AUC        KS       MIC  \n",
       "ely_gt0_repay_amt_rf_repay_mean_p186d  2.199691  0.5898  0.148264  0.004831  \n",
       "ely_gt3_repay_amt_rf_repay_sum_p36d    2.348694  0.5757  0.139082  0.005597  "
      ]
     },
     "execution_count": 5,
     "metadata": {},
     "output_type": "execute_result"
    }
   ],
   "source": [
    "filter_index= pd.read_csv(join(cfg_path,'cfg','filter_index.csv'),index_col=0)\n",
    "print(filter_index.shape)\n",
    "filter_index.head(2)"
   ]
  },
  {
   "cell_type": "code",
   "execution_count": 32,
   "metadata": {},
   "outputs": [],
   "source": [
    "sel_dict = {'Person':{'sorted':abs, 'best_number':80},\n",
    "            'Fclassif':{'best_number':150},\n",
    "            'Chi2': {'best_number':80},\n",
    "            'inform_gain': {'best_number':100},\n",
    "            'inform_gain_rto': {'best_number':50},\n",
    "            'IV': {'best_number':100},\n",
    "            'absWOE': {'best_number':150},\n",
    "            'AUC': {'best_number':150},\n",
    "            'KS': {'best_number':150},\n",
    "            'MIC':{'best_number':100}\n",
    "           }"
   ]
  },
  {
   "cell_type": "code",
   "execution_count": 33,
   "metadata": {},
   "outputs": [
    {
     "data": {
      "text/plain": [
       "457"
      ]
     },
     "execution_count": 33,
     "metadata": {},
     "output_type": "execute_result"
    }
   ],
   "source": [
    "feas_sel = []\n",
    "for key, value in sel_dict.items():\n",
    "    sorted_value = value.get('sorted', None)\n",
    "    number = value.get('best_number', 100)\n",
    "    feas_ = gntls.SelectKBest(filter_index[key], SelectKBest=number, thred=-1, key=sorted_value)\n",
    "    feas_sel.extend(feas_)\n",
    "feas_sel = list(set(feas_sel))\n",
    "len(feas_sel)"
   ]
  },
  {
   "cell_type": "code",
   "execution_count": 29,
   "metadata": {},
   "outputs": [
    {
     "data": {
      "application/vnd.jupyter.widget-view+json": {
       "model_id": "c2f551d9652e49e9b8af5b9487be7331",
       "version_major": 2,
       "version_minor": 0
      },
      "text/plain": [
       "VBox(box_style='info', children=(HBox(children=(HBox(children=(Button(description='ovd_days_rf_repay_sum_p7d',…"
      ]
     },
     "metadata": {},
     "output_type": "display_data"
    }
   ],
   "source": [
    "tab = fplt.TabOut()\n",
    "params = {}\n",
    "\n",
    "for fea in filter_index.sort_values('Person',ascending=False, key=abs).index[:5]:\n",
    "    params.update({fea: fplt.PlotUtils().plot_bivar(x_train, feas=fea, target=target,\n",
    "                    cut_params=None, title=fea,\n",
    "                    yaxis='count_rto', pyecharts=False, mark_line=True,\n",
    "                    draw_lin=False, save_path=None, thred=1, max_bins=999,\n",
    "                    color_bar=['steelblue'], color_line=['red','black'], return_state=False)})\n",
    "    \n",
    "tab.get_tab_out(params, box_style='info',column_cnt=5)"
   ]
  },
  {
   "cell_type": "code",
   "execution_count": 30,
   "metadata": {},
   "outputs": [
    {
     "data": {
      "application/vnd.jupyter.widget-view+json": {
       "model_id": "12a362d6e07645c699244d5e520b265e",
       "version_major": 2,
       "version_minor": 0
      },
      "text/plain": [
       "VBox(box_style='info', children=(HBox(children=(HBox(children=(Button(description='ovd_days_rf_due_sum_p36d', …"
      ]
     },
     "metadata": {},
     "output_type": "display_data"
    }
   ],
   "source": [
    "tab = fplt.TabOut()\n",
    "params = {}\n",
    "\n",
    "for fea in filter_index.sort_values('Fclassif',ascending=False).index[:5]:\n",
    "    params.update({fea: fplt.PlotUtils().plot_bivar(x_train, feas=fea, target=target,\n",
    "                    cut_params=None, title=fea,\n",
    "                    yaxis='count_rto', pyecharts=False, mark_line=True,\n",
    "                    draw_lin=False, save_path=None, thred=1, max_bins=999,\n",
    "                    color_bar=['steelblue'], color_line=['red','black'], return_state=False)})\n",
    "    \n",
    "tab.get_tab_out(params, box_style='info',column_cnt=5)"
   ]
  },
  {
   "cell_type": "code",
   "execution_count": 31,
   "metadata": {},
   "outputs": [
    {
     "data": {
      "application/vnd.jupyter.widget-view+json": {
       "model_id": "f12fec34df934049a9afb535a6f4d98f",
       "version_major": 2,
       "version_minor": 0
      },
      "text/plain": [
       "VBox(box_style='info', children=(HBox(children=(HBox(children=(Button(description='ovd_days_rf_due_median_p36d…"
      ]
     },
     "metadata": {},
     "output_type": "display_data"
    }
   ],
   "source": [
    "tab = fplt.TabOut()\n",
    "params = {}\n",
    "\n",
    "for fea in filter_index.sort_values('Chi2',ascending=False).index[:5]:\n",
    "    params.update({fea: fplt.PlotUtils().plot_bivar(x_train, feas=fea, target=target,\n",
    "                    cut_params=None, title=fea,\n",
    "                    yaxis='count_rto', pyecharts=False, mark_line=True,\n",
    "                    draw_lin=False, save_path=None, thred=1, max_bins=999,\n",
    "                    color_bar=['steelblue'], color_line=['red','black'], return_state=False)})\n",
    "    \n",
    "tab.get_tab_out(params, box_style='info',column_cnt=5)"
   ]
  },
  {
   "cell_type": "code",
   "execution_count": 32,
   "metadata": {},
   "outputs": [
    {
     "data": {
      "application/vnd.jupyter.widget-view+json": {
       "model_id": "6123bbd9faa04d1e933eac76ff71a032",
       "version_major": 2,
       "version_minor": 0
      },
      "text/plain": [
       "VBox(box_style='info', children=(HBox(children=(HBox(children=(Button(description='ovd_days_rf_repay_median_p7…"
      ]
     },
     "metadata": {},
     "output_type": "display_data"
    }
   ],
   "source": [
    "tab = fplt.TabOut()\n",
    "params = {}\n",
    "\n",
    "for fea in filter_index.sort_values('inform_gain',ascending=False).index[:5]:\n",
    "    params.update({fea: fplt.PlotUtils().plot_bivar(x_train, feas=fea, target=target,\n",
    "                    cut_params=10, title=fea,\n",
    "                    yaxis='count_rto', pyecharts=False, mark_line=True,\n",
    "                    draw_lin=False, save_path=None, thred=1, max_bins=999,\n",
    "                    color_bar=['steelblue'], color_line=['red','black'], return_state=False)})\n",
    "    \n",
    "tab.get_tab_out(params, box_style='info',column_cnt=5)"
   ]
  },
  {
   "cell_type": "code",
   "execution_count": 33,
   "metadata": {},
   "outputs": [
    {
     "data": {
      "application/vnd.jupyter.widget-view+json": {
       "model_id": "8e25e7c8ccbb46178973af4a438d1b4c",
       "version_major": 2,
       "version_minor": 0
      },
      "text/plain": [
       "VBox(box_style='info', children=(HBox(children=(HBox(children=(Button(description='ovd_gt3_repay_amt_rf_repay_…"
      ]
     },
     "metadata": {},
     "output_type": "display_data"
    }
   ],
   "source": [
    "tab = fplt.TabOut()\n",
    "params = {}\n",
    "\n",
    "for fea in filter_index.sort_values('inform_gain_rto',ascending=False).index[:5]:\n",
    "    params.update({fea: fplt.PlotUtils().plot_bivar(x_train, feas=fea, target=target,\n",
    "                    cut_params=None, title=fea,\n",
    "                    yaxis='count_rto', pyecharts=False, mark_line=True,\n",
    "                    draw_lin=False, save_path=None, thred=1, max_bins=999,\n",
    "                    color_bar=['steelblue'], color_line=['red','black'], return_state=False)})\n",
    "    \n",
    "tab.get_tab_out(params, box_style='info',column_cnt=5)"
   ]
  },
  {
   "cell_type": "code",
   "execution_count": 34,
   "metadata": {},
   "outputs": [
    {
     "data": {
      "application/vnd.jupyter.widget-view+json": {
       "model_id": "09b7b235b46e4bf59983283ae947f73c",
       "version_major": 2,
       "version_minor": 0
      },
      "text/plain": [
       "VBox(box_style='info', children=(HBox(children=(HBox(children=(Button(description='normal_repay_amt_rf_repay_m…"
      ]
     },
     "metadata": {},
     "output_type": "display_data"
    }
   ],
   "source": [
    "tab = fplt.TabOut()\n",
    "params = {}\n",
    "\n",
    "for fea in filter_index.sort_values('IV',ascending=False).index[:5]:\n",
    "    params.update({fea: fplt.PlotUtils().plot_bivar(x_train, feas=fea, target=target,\n",
    "                    cut_params=10, title=fea,\n",
    "                    yaxis='count_rto', pyecharts=False, mark_line=True,\n",
    "                    draw_lin=False, save_path=None, thred=1, max_bins=999,\n",
    "                    color_bar=['steelblue'], color_line=['red','black'], return_state=False)})\n",
    "    \n",
    "tab.get_tab_out(params, box_style='info',column_cnt=5)"
   ]
  },
  {
   "cell_type": "code",
   "execution_count": 35,
   "metadata": {},
   "outputs": [
    {
     "data": {
      "application/vnd.jupyter.widget-view+json": {
       "model_id": "cb93b335adf9419fb42006431a3e7d9e",
       "version_major": 2,
       "version_minor": 0
      },
      "text/plain": [
       "VBox(box_style='info', children=(HBox(children=(HBox(children=(Button(description='ovd_gt1_repay_cnt_rf_repay_…"
      ]
     },
     "metadata": {},
     "output_type": "display_data"
    }
   ],
   "source": [
    "tab = fplt.TabOut()\n",
    "params = {}\n",
    "\n",
    "for fea in filter_index.sort_values('absWOE',ascending=False).index[:5]:\n",
    "    params.update({fea: fplt.PlotUtils().plot_bivar(x_train, feas=fea, target=target,\n",
    "                    cut_params=None, title=fea,\n",
    "                    yaxis='count_rto', pyecharts=False, mark_line=True,\n",
    "                    draw_lin=False, save_path=None, thred=1, max_bins=999,\n",
    "                    color_bar=['steelblue'], color_line=['red','black'], return_state=False)})\n",
    "    \n",
    "tab.get_tab_out(params, box_style='info',column_cnt=5)"
   ]
  },
  {
   "cell_type": "code",
   "execution_count": 36,
   "metadata": {},
   "outputs": [
    {
     "data": {
      "application/vnd.jupyter.widget-view+json": {
       "model_id": "582cb94166624c6d95d541f0725bff49",
       "version_major": 2,
       "version_minor": 0
      },
      "text/plain": [
       "VBox(box_style='info', children=(HBox(children=(HBox(children=(Button(description='normal_repay_amt_rf_repay_s…"
      ]
     },
     "metadata": {},
     "output_type": "display_data"
    }
   ],
   "source": [
    "tab = fplt.TabOut()\n",
    "params = {}\n",
    "\n",
    "for fea in filter_index.sort_values('AUC',ascending=False).index[:5]:\n",
    "    params.update({fea: fplt.PlotUtils().plot_bivar(x_train, feas=fea, target=target,\n",
    "                    cut_params=10, title=fea,\n",
    "                    yaxis='count_rto', pyecharts=False, mark_line=True,\n",
    "                    draw_lin=False, save_path=None, thred=1, max_bins=999,\n",
    "                    color_bar=['steelblue'], color_line=['red','black'], return_state=False)})\n",
    "    \n",
    "tab.get_tab_out(params, box_style='info',column_cnt=5)"
   ]
  },
  {
   "cell_type": "code",
   "execution_count": 37,
   "metadata": {},
   "outputs": [
    {
     "data": {
      "application/vnd.jupyter.widget-view+json": {
       "model_id": "ebb3d982eb20478fa985ae9a73a244b8",
       "version_major": 2,
       "version_minor": 0
      },
      "text/plain": [
       "VBox(box_style='info', children=(HBox(children=(HBox(children=(Button(description='normal_repay_amt_rf_repay_s…"
      ]
     },
     "metadata": {},
     "output_type": "display_data"
    }
   ],
   "source": [
    "tab = fplt.TabOut()\n",
    "params = {}\n",
    "\n",
    "for fea in filter_index.sort_values('KS',ascending=False).index[:5]:\n",
    "    params.update({fea: fplt.PlotUtils().plot_bivar(x_train, feas=fea, target=target,\n",
    "                    cut_params=10, title=fea,\n",
    "                    yaxis='count_rto', pyecharts=False, mark_line=True,\n",
    "                    draw_lin=False, save_path=None, thred=1, max_bins=999,\n",
    "                    color_bar=['steelblue'], color_line=['red','black'], return_state=False)})\n",
    "    \n",
    "tab.get_tab_out(params, box_style='info',column_cnt=5)"
   ]
  },
  {
   "cell_type": "code",
   "execution_count": 38,
   "metadata": {},
   "outputs": [
    {
     "data": {
      "application/vnd.jupyter.widget-view+json": {
       "model_id": "0045d4463845491f982b12fa37ca49f3",
       "version_major": 2,
       "version_minor": 0
      },
      "text/plain": [
       "VBox(box_style='info', children=(HBox(children=(HBox(children=(Button(description='ovd_days_rf_repay_median_p7…"
      ]
     },
     "metadata": {},
     "output_type": "display_data"
    }
   ],
   "source": [
    "tab = fplt.TabOut()\n",
    "params = {}\n",
    "\n",
    "for fea in filter_index.sort_values('MIC',ascending=False).index[:5]:\n",
    "    params.update({fea: fplt.PlotUtils().plot_bivar(x_train, feas=fea, target=target,\n",
    "                    cut_params=10, title=fea,\n",
    "                    yaxis='count_rto', pyecharts=False, mark_line=True,\n",
    "                    draw_lin=False, save_path=None, thred=1, max_bins=999,\n",
    "                    color_bar=['steelblue'], color_line=['red','black'], return_state=False)})\n",
    "    \n",
    "tab.get_tab_out(params, box_style='info',column_cnt=5)"
   ]
  },
  {
   "cell_type": "code",
   "execution_count": null,
   "metadata": {},
   "outputs": [],
   "source": []
  },
  {
   "cell_type": "markdown",
   "metadata": {},
   "source": [
    "### plot feas"
   ]
  },
  {
   "cell_type": "code",
   "execution_count": null,
   "metadata": {},
   "outputs": [],
   "source": [
    "matplotlib.use(\"Agg\")"
   ]
  },
  {
   "cell_type": "code",
   "execution_count": 41,
   "metadata": {},
   "outputs": [
    {
     "name": "stdout",
     "output_type": "stream",
     "text": [
      "174 912\n",
      "100 357\n"
     ]
    }
   ],
   "source": [
    "print(len(feas_nocut), len(feas_cut))\n",
    "feas_nocut = list(set(feas_nocut).intersection(set(feas_sel)))\n",
    "feas_cut = list(set(feas_cut).intersection(set(feas_sel)))\n",
    "print(len(feas_nocut), len(feas_cut))"
   ]
  },
  {
   "cell_type": "code",
   "execution_count": 42,
   "metadata": {},
   "outputs": [
    {
     "name": "stderr",
     "output_type": "stream",
     "text": [
      "100%|████████████████████████████████████████████████████████████████████████████████| 143/143 [07:45<00:00,  3.26s/it]\n",
      "100%|████████████████████████████████████████████████████████████████████████████████| 357/357 [03:04<00:00,  1.94it/s]\n"
     ]
    }
   ],
   "source": [
    "for fea in tqdm(feas_nocut+list(x_train.select_dtypes('object').columns)):\n",
    "    pic= fplt.PlotUtils().plot_bivar(x_train, feas=fea, target=target, cut_params=None, title=fea,\n",
    "                    yaxis='count_rto', pyecharts=False, mark_line=True,\n",
    "                    draw_lin=False, save_path=join(cfg_path,'bivar'), \n",
    "                    color_bar=['steelblue'], color_line=['red','black'])\n",
    "    \n",
    "for fea in tqdm(feas_cut):\n",
    "    pic = fplt.PlotUtils().plot_bivar(x_train, feas=fea, target=target, cut_params=10, title=fea,\n",
    "                    yaxis='count_rto', pyecharts=False, mark_line=True,\n",
    "                    draw_lin=False, save_path=join(cfg_path,'bivar'), \n",
    "                    color_bar=['steelblue'], color_line=['red','black'])        "
   ]
  },
  {
   "cell_type": "markdown",
   "metadata": {},
   "source": [
    "### save"
   ]
  },
  {
   "cell_type": "code",
   "execution_count": 35,
   "metadata": {},
   "outputs": [],
   "source": [
    "cat_feas = list(x_train.select_dtypes('object'))\n",
    "x_train[list(set(feas_sel+exclude_cols+[target]+cat_feas))].to_pickle(join(dpath,'x_train_afsel.pkl'))\n",
    "x_test[list(set(feas_sel+exclude_cols+[target]+cat_feas))].to_pickle(join(dpath,'x_test_afsel.pkl'))\n",
    "oot[list(set(feas_sel+exclude_cols+[target]+cat_feas))].to_pickle(join(dpath,'oot_afsel.pkl'))"
   ]
  },
  {
   "cell_type": "code",
   "execution_count": null,
   "metadata": {},
   "outputs": [],
   "source": []
  }
 ],
 "metadata": {
  "kernelspec": {
   "display_name": "Python 3",
   "language": "python",
   "name": "python3"
  },
  "language_info": {
   "codemirror_mode": {
    "name": "ipython",
    "version": 3
   },
   "file_extension": ".py",
   "mimetype": "text/x-python",
   "name": "python",
   "nbconvert_exporter": "python",
   "pygments_lexer": "ipython3",
   "version": "3.7.4"
  },
  "toc": {
   "base_numbering": 1,
   "nav_menu": {},
   "number_sections": true,
   "sideBar": true,
   "skip_h1_title": false,
   "title_cell": "Table of Contents",
   "title_sidebar": "Contents",
   "toc_cell": false,
   "toc_position": {
    "height": "calc(100% - 180px)",
    "left": "10px",
    "top": "150px",
    "width": "307.2px"
   },
   "toc_section_display": true,
   "toc_window_display": true
  }
 },
 "nbformat": 4,
 "nbformat_minor": 2
}
